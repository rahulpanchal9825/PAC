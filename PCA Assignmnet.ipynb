{
 "cells": [
  {
   "cell_type": "markdown",
   "id": "bc85f454",
   "metadata": {},
   "source": [
    "#Q - Perform Principal component analysis and perform clustering using first \n",
    "3 principal component scores (both heirarchial and k mean clustering(scree plot or elbow curve) and obtain \n",
    "optimum number of clusters and check whether we have obtained same number of clusters with the original data \n",
    "(class column we have ignored at the begining who shows it has 3 clusters)df"
   ]
  },
  {
   "cell_type": "code",
   "execution_count": 27,
   "id": "91429b08",
   "metadata": {},
   "outputs": [],
   "source": [
    "import pandas as pd\n",
    "import numpy as np\n",
    "from sklearn.decomposition import PCA\n",
    "import matplotlib.pyplot as plt\n",
    "from sklearn.preprocessing import scale\n",
    "import seaborn as sns"
   ]
  },
  {
   "cell_type": "code",
   "execution_count": 28,
   "id": "53ab5ffc",
   "metadata": {},
   "outputs": [],
   "source": [
    "df=pd.read_csv(\"E:\\DATA SCIENCE\\LMS\\ASSIGNMENT\\MY ASSIGNMENT\\PCA\\wine.csv\")\n",
    "wine1=df.iloc[:,1:]"
   ]
  },
  {
   "cell_type": "code",
   "execution_count": 29,
   "id": "34ac7cfc",
   "metadata": {},
   "outputs": [
    {
     "data": {
      "text/html": [
       "<div>\n",
       "<style scoped>\n",
       "    .dataframe tbody tr th:only-of-type {\n",
       "        vertical-align: middle;\n",
       "    }\n",
       "\n",
       "    .dataframe tbody tr th {\n",
       "        vertical-align: top;\n",
       "    }\n",
       "\n",
       "    .dataframe thead th {\n",
       "        text-align: right;\n",
       "    }\n",
       "</style>\n",
       "<table border=\"1\" class=\"dataframe\">\n",
       "  <thead>\n",
       "    <tr style=\"text-align: right;\">\n",
       "      <th></th>\n",
       "      <th>Alcohol</th>\n",
       "      <th>Malic</th>\n",
       "      <th>Ash</th>\n",
       "      <th>Alcalinity</th>\n",
       "      <th>Magnesium</th>\n",
       "      <th>Phenols</th>\n",
       "      <th>Flavanoids</th>\n",
       "      <th>Nonflavanoids</th>\n",
       "      <th>Proanthocyanins</th>\n",
       "      <th>Color</th>\n",
       "      <th>Hue</th>\n",
       "      <th>Dilution</th>\n",
       "      <th>Proline</th>\n",
       "    </tr>\n",
       "  </thead>\n",
       "  <tbody>\n",
       "    <tr>\n",
       "      <th>count</th>\n",
       "      <td>178.000000</td>\n",
       "      <td>178.000000</td>\n",
       "      <td>178.000000</td>\n",
       "      <td>178.000000</td>\n",
       "      <td>178.000000</td>\n",
       "      <td>178.000000</td>\n",
       "      <td>178.000000</td>\n",
       "      <td>178.000000</td>\n",
       "      <td>178.000000</td>\n",
       "      <td>178.000000</td>\n",
       "      <td>178.000000</td>\n",
       "      <td>178.000000</td>\n",
       "      <td>178.000000</td>\n",
       "    </tr>\n",
       "    <tr>\n",
       "      <th>mean</th>\n",
       "      <td>13.000618</td>\n",
       "      <td>2.336348</td>\n",
       "      <td>2.366517</td>\n",
       "      <td>19.494944</td>\n",
       "      <td>99.741573</td>\n",
       "      <td>2.295112</td>\n",
       "      <td>2.029270</td>\n",
       "      <td>0.361854</td>\n",
       "      <td>1.590899</td>\n",
       "      <td>5.058090</td>\n",
       "      <td>0.957449</td>\n",
       "      <td>2.611685</td>\n",
       "      <td>746.893258</td>\n",
       "    </tr>\n",
       "    <tr>\n",
       "      <th>std</th>\n",
       "      <td>0.811827</td>\n",
       "      <td>1.117146</td>\n",
       "      <td>0.274344</td>\n",
       "      <td>3.339564</td>\n",
       "      <td>14.282484</td>\n",
       "      <td>0.625851</td>\n",
       "      <td>0.998859</td>\n",
       "      <td>0.124453</td>\n",
       "      <td>0.572359</td>\n",
       "      <td>2.318286</td>\n",
       "      <td>0.228572</td>\n",
       "      <td>0.709990</td>\n",
       "      <td>314.907474</td>\n",
       "    </tr>\n",
       "    <tr>\n",
       "      <th>min</th>\n",
       "      <td>11.030000</td>\n",
       "      <td>0.740000</td>\n",
       "      <td>1.360000</td>\n",
       "      <td>10.600000</td>\n",
       "      <td>70.000000</td>\n",
       "      <td>0.980000</td>\n",
       "      <td>0.340000</td>\n",
       "      <td>0.130000</td>\n",
       "      <td>0.410000</td>\n",
       "      <td>1.280000</td>\n",
       "      <td>0.480000</td>\n",
       "      <td>1.270000</td>\n",
       "      <td>278.000000</td>\n",
       "    </tr>\n",
       "    <tr>\n",
       "      <th>25%</th>\n",
       "      <td>12.362500</td>\n",
       "      <td>1.602500</td>\n",
       "      <td>2.210000</td>\n",
       "      <td>17.200000</td>\n",
       "      <td>88.000000</td>\n",
       "      <td>1.742500</td>\n",
       "      <td>1.205000</td>\n",
       "      <td>0.270000</td>\n",
       "      <td>1.250000</td>\n",
       "      <td>3.220000</td>\n",
       "      <td>0.782500</td>\n",
       "      <td>1.937500</td>\n",
       "      <td>500.500000</td>\n",
       "    </tr>\n",
       "    <tr>\n",
       "      <th>50%</th>\n",
       "      <td>13.050000</td>\n",
       "      <td>1.865000</td>\n",
       "      <td>2.360000</td>\n",
       "      <td>19.500000</td>\n",
       "      <td>98.000000</td>\n",
       "      <td>2.355000</td>\n",
       "      <td>2.135000</td>\n",
       "      <td>0.340000</td>\n",
       "      <td>1.555000</td>\n",
       "      <td>4.690000</td>\n",
       "      <td>0.965000</td>\n",
       "      <td>2.780000</td>\n",
       "      <td>673.500000</td>\n",
       "    </tr>\n",
       "    <tr>\n",
       "      <th>75%</th>\n",
       "      <td>13.677500</td>\n",
       "      <td>3.082500</td>\n",
       "      <td>2.557500</td>\n",
       "      <td>21.500000</td>\n",
       "      <td>107.000000</td>\n",
       "      <td>2.800000</td>\n",
       "      <td>2.875000</td>\n",
       "      <td>0.437500</td>\n",
       "      <td>1.950000</td>\n",
       "      <td>6.200000</td>\n",
       "      <td>1.120000</td>\n",
       "      <td>3.170000</td>\n",
       "      <td>985.000000</td>\n",
       "    </tr>\n",
       "    <tr>\n",
       "      <th>max</th>\n",
       "      <td>14.830000</td>\n",
       "      <td>5.800000</td>\n",
       "      <td>3.230000</td>\n",
       "      <td>30.000000</td>\n",
       "      <td>162.000000</td>\n",
       "      <td>3.880000</td>\n",
       "      <td>5.080000</td>\n",
       "      <td>0.660000</td>\n",
       "      <td>3.580000</td>\n",
       "      <td>13.000000</td>\n",
       "      <td>1.710000</td>\n",
       "      <td>4.000000</td>\n",
       "      <td>1680.000000</td>\n",
       "    </tr>\n",
       "  </tbody>\n",
       "</table>\n",
       "</div>"
      ],
      "text/plain": [
       "          Alcohol       Malic         Ash  Alcalinity   Magnesium     Phenols  \\\n",
       "count  178.000000  178.000000  178.000000  178.000000  178.000000  178.000000   \n",
       "mean    13.000618    2.336348    2.366517   19.494944   99.741573    2.295112   \n",
       "std      0.811827    1.117146    0.274344    3.339564   14.282484    0.625851   \n",
       "min     11.030000    0.740000    1.360000   10.600000   70.000000    0.980000   \n",
       "25%     12.362500    1.602500    2.210000   17.200000   88.000000    1.742500   \n",
       "50%     13.050000    1.865000    2.360000   19.500000   98.000000    2.355000   \n",
       "75%     13.677500    3.082500    2.557500   21.500000  107.000000    2.800000   \n",
       "max     14.830000    5.800000    3.230000   30.000000  162.000000    3.880000   \n",
       "\n",
       "       Flavanoids  Nonflavanoids  Proanthocyanins       Color         Hue  \\\n",
       "count  178.000000     178.000000       178.000000  178.000000  178.000000   \n",
       "mean     2.029270       0.361854         1.590899    5.058090    0.957449   \n",
       "std      0.998859       0.124453         0.572359    2.318286    0.228572   \n",
       "min      0.340000       0.130000         0.410000    1.280000    0.480000   \n",
       "25%      1.205000       0.270000         1.250000    3.220000    0.782500   \n",
       "50%      2.135000       0.340000         1.555000    4.690000    0.965000   \n",
       "75%      2.875000       0.437500         1.950000    6.200000    1.120000   \n",
       "max      5.080000       0.660000         3.580000   13.000000    1.710000   \n",
       "\n",
       "         Dilution      Proline  \n",
       "count  178.000000   178.000000  \n",
       "mean     2.611685   746.893258  \n",
       "std      0.709990   314.907474  \n",
       "min      1.270000   278.000000  \n",
       "25%      1.937500   500.500000  \n",
       "50%      2.780000   673.500000  \n",
       "75%      3.170000   985.000000  \n",
       "max      4.000000  1680.000000  "
      ]
     },
     "execution_count": 29,
     "metadata": {},
     "output_type": "execute_result"
    }
   ],
   "source": [
    "#check dataset\n",
    "wine1.describe()"
   ]
  },
  {
   "cell_type": "code",
   "execution_count": 30,
   "id": "64397a2d",
   "metadata": {},
   "outputs": [
    {
     "data": {
      "text/plain": [
       "Alcohol            float64\n",
       "Malic              float64\n",
       "Ash                float64\n",
       "Alcalinity         float64\n",
       "Magnesium            int64\n",
       "Phenols            float64\n",
       "Flavanoids         float64\n",
       "Nonflavanoids      float64\n",
       "Proanthocyanins    float64\n",
       "Color              float64\n",
       "Hue                float64\n",
       "Dilution           float64\n",
       "Proline              int64\n",
       "dtype: object"
      ]
     },
     "execution_count": 30,
     "metadata": {},
     "output_type": "execute_result"
    }
   ],
   "source": [
    "#check dataset\n",
    "wine1.dtypes"
   ]
  },
  {
   "cell_type": "code",
   "execution_count": 31,
   "id": "e7068cf6",
   "metadata": {},
   "outputs": [
    {
     "data": {
      "text/plain": [
       "Alcohol            0\n",
       "Malic              0\n",
       "Ash                0\n",
       "Alcalinity         0\n",
       "Magnesium          0\n",
       "Phenols            0\n",
       "Flavanoids         0\n",
       "Nonflavanoids      0\n",
       "Proanthocyanins    0\n",
       "Color              0\n",
       "Hue                0\n",
       "Dilution           0\n",
       "Proline            0\n",
       "dtype: int64"
      ]
     },
     "execution_count": 31,
     "metadata": {},
     "output_type": "execute_result"
    }
   ],
   "source": [
    "#check null values\n",
    "wine1.isna().sum()"
   ]
  },
  {
   "cell_type": "code",
   "execution_count": 32,
   "id": "64037966",
   "metadata": {},
   "outputs": [
    {
     "data": {
      "text/plain": [
       "array([[ 1.51861254, -0.5622498 ,  0.23205254, ...,  0.36217728,\n",
       "         1.84791957,  1.01300893],\n",
       "       [ 0.24628963, -0.49941338, -0.82799632, ...,  0.40605066,\n",
       "         1.1134493 ,  0.96524152],\n",
       "       [ 0.19687903,  0.02123125,  1.10933436, ...,  0.31830389,\n",
       "         0.78858745,  1.39514818],\n",
       "       ...,\n",
       "       [ 0.33275817,  1.74474449, -0.38935541, ..., -1.61212515,\n",
       "        -1.48544548,  0.28057537],\n",
       "       [ 0.20923168,  0.22769377,  0.01273209, ..., -1.56825176,\n",
       "        -1.40069891,  0.29649784],\n",
       "       [ 1.39508604,  1.58316512,  1.36520822, ..., -1.52437837,\n",
       "        -1.42894777, -0.59516041]])"
      ]
     },
     "execution_count": 32,
     "metadata": {},
     "output_type": "execute_result"
    }
   ],
   "source": [
    "#scale the data for better visulization\n",
    "wine2=scale(wine1)\n",
    "wine2"
   ]
  },
  {
   "cell_type": "code",
   "execution_count": 33,
   "id": "590cc6aa",
   "metadata": {},
   "outputs": [
    {
     "data": {
      "text/plain": [
       "array([[ 3.31675081e+00, -1.44346263e+00, -1.65739045e-01],\n",
       "       [ 2.20946492e+00,  3.33392887e-01, -2.02645737e+00],\n",
       "       [ 2.51674015e+00, -1.03115130e+00,  9.82818670e-01],\n",
       "       [ 3.75706561e+00, -2.75637191e+00, -1.76191842e-01],\n",
       "       [ 1.00890849e+00, -8.69830821e-01,  2.02668822e+00],\n",
       "       [ 3.05025392e+00, -2.12240111e+00, -6.29395827e-01],\n",
       "       [ 2.44908967e+00, -1.17485013e+00, -9.77094891e-01],\n",
       "       [ 2.05943687e+00, -1.60896307e+00,  1.46281883e-01],\n",
       "       [ 2.51087430e+00, -9.18070957e-01, -1.77096903e+00],\n",
       "       [ 2.75362819e+00, -7.89437674e-01, -9.84247490e-01],\n",
       "       [ 3.47973668e+00, -1.30233324e+00, -4.22735217e-01],\n",
       "       [ 1.75475290e+00, -6.11977229e-01, -1.19087832e+00],\n",
       "       [ 2.11346234e+00, -6.75706339e-01, -8.65086426e-01],\n",
       "       [ 3.45815682e+00, -1.13062988e+00, -1.20427635e+00],\n",
       "       [ 4.31278391e+00, -2.09597558e+00, -1.26391275e+00],\n",
       "       [ 2.30518820e+00, -1.66255173e+00,  2.17902616e-01],\n",
       "       [ 2.17195527e+00, -2.32730534e+00,  8.31729866e-01],\n",
       "       [ 1.89897118e+00, -1.63136888e+00,  7.94913792e-01],\n",
       "       [ 3.54198508e+00, -2.51834367e+00, -4.85458508e-01],\n",
       "       [ 2.08452220e+00, -1.06113799e+00, -1.64746678e-01],\n",
       "       [ 3.12440254e+00, -7.86897106e-01, -3.64887083e-01],\n",
       "       [ 1.08657007e+00, -2.41743551e-01,  9.36961600e-01],\n",
       "       [ 2.53522408e+00,  9.18406207e-02, -3.11932659e-01],\n",
       "       [ 1.64498834e+00,  5.16278930e-01,  1.43885095e-01],\n",
       "       [ 1.76157587e+00,  3.17148933e-01,  8.90285647e-01],\n",
       "       [ 9.90079102e-01, -9.40667338e-01,  3.82090801e+00],\n",
       "       [ 1.77527763e+00, -6.86175134e-01, -8.67004065e-02],\n",
       "       [ 1.23542396e+00,  8.98070414e-02, -1.38689654e+00],\n",
       "       [ 2.18840633e+00, -6.89569621e-01,  1.39456688e+00],\n",
       "       [ 2.25610898e+00, -1.91461937e-01, -1.09265726e+00],\n",
       "       [ 2.50022003e+00, -1.24083383e+00,  1.38601785e+00],\n",
       "       [ 2.67741105e+00, -1.47187365e+00, -3.32261728e-01],\n",
       "       [ 1.62857912e+00, -5.27044506e-02, -1.67128706e-01],\n",
       "       [ 1.90269086e+00, -1.63306043e+00,  1.17208212e+00],\n",
       "       [ 1.41038853e+00, -6.97934325e-01,  4.79743025e-01],\n",
       "       [ 1.90382623e+00, -1.76710951e-01,  4.50835040e-01],\n",
       "       [ 1.38486223e+00, -6.58639854e-01,  4.58438581e-01],\n",
       "       [ 1.12220741e+00, -1.14109760e-01, -3.91072767e-02],\n",
       "       [ 1.50219450e+00,  7.69432006e-01, -1.42617735e+00],\n",
       "       [ 2.52980109e+00, -1.80300198e+00, -3.43152389e-01],\n",
       "       [ 2.58809543e+00, -7.79616304e-01, -1.18477466e-01],\n",
       "       [ 6.68481994e-01, -1.69960941e-01, -7.83362548e-01],\n",
       "       [ 3.07080699e+00, -1.15591896e+00, -3.12758084e-01],\n",
       "       [ 4.62209138e-01, -3.30742132e-01, -2.01476496e-01],\n",
       "       [ 2.10135193e+00,  7.10089210e-02, -6.55849415e-01],\n",
       "       [ 1.13616618e+00, -1.77710739e+00,  2.87057358e-02],\n",
       "       [ 2.72660096e+00, -1.19133469e+00, -5.39773261e-01],\n",
       "       [ 2.82133927e+00, -6.46258599e-01, -1.15555241e+00],\n",
       "       [ 2.00985085e+00, -1.24702946e+00, -5.72939879e-02],\n",
       "       [ 2.70749130e+00, -1.75196741e+00, -6.43113612e-01],\n",
       "       [ 3.21491747e+00, -1.66991995e-01, -1.97357168e+00],\n",
       "       [ 2.85895983e+00, -7.45278804e-01,  4.71950216e-03],\n",
       "       [ 3.50560436e+00, -1.61273386e+00, -5.20774530e-01],\n",
       "       [ 2.22479138e+00, -1.87516800e+00,  3.39549850e-01],\n",
       "       [ 2.14698782e+00, -1.01675154e+00, -9.57762762e-01],\n",
       "       [ 2.46932948e+00, -1.32900831e+00,  5.13437453e-01],\n",
       "       [ 2.74151791e+00, -1.43654878e+00, -6.12473396e-01],\n",
       "       [ 2.17374092e+00, -1.21219984e+00,  2.61779593e-01],\n",
       "       [ 3.13938015e+00, -1.73157912e+00, -2.85661413e-01],\n",
       "       [-9.28581969e-01,  3.07348616e+00, -4.58506401e+00],\n",
       "       [-1.54248014e+00,  1.38144351e+00, -8.74683112e-01],\n",
       "       [-1.83624976e+00,  8.29984123e-01, -1.60570219e+00],\n",
       "       [ 3.06068341e-02,  1.26278614e+00, -1.78440801e+00],\n",
       "       [ 2.05026161e+00,  1.92503260e+00, -7.36877735e-03],\n",
       "       [-6.09680827e-01,  1.90805881e+00,  6.79357938e-01],\n",
       "       [ 9.00227839e-01,  7.63911474e-01,  5.73361302e-01],\n",
       "       [ 2.24850719e+00,  1.88459248e+00, -2.03184019e+00],\n",
       "       [ 1.83384027e-01,  2.42714611e+00, -1.06974556e+00],\n",
       "       [-8.12805027e-01,  2.20513987e-01, -7.07005396e-01],\n",
       "       [ 1.97562050e+00,  1.40328323e+00, -1.23827622e+00],\n",
       "       [-1.57221622e+00,  8.84983137e-01, -6.28997950e-01],\n",
       "       [ 1.65768181e+00,  9.56712197e-01,  1.95258422e+00],\n",
       "       [-7.25372388e-01,  1.06364540e+00,  8.03322286e-02],\n",
       "       [ 2.56222717e+00, -2.60198551e-01,  3.37439396e+00],\n",
       "       [ 1.83256757e+00,  1.28787820e+00,  4.58280027e-01],\n",
       "       [-8.67992903e-01,  2.44410119e+00, -1.56333318e+00],\n",
       "       [ 3.70014404e-01,  2.15390698e+00, -2.44938635e+00],\n",
       "       [-1.45737704e+00,  1.38335177e+00, -2.27306902e-01],\n",
       "       [ 1.26293085e+00,  7.70849530e-01, -1.18422452e+00],\n",
       "       [ 3.76150372e-01,  1.02704340e+00,  1.79446629e+00],\n",
       "       [ 7.62063904e-01,  3.37505381e+00, -3.57470056e-01],\n",
       "       [ 1.03457797e+00,  1.45070974e+00, -3.63011773e-01],\n",
       "       [-4.94876756e-01,  2.38124353e+00,  1.33574318e+00],\n",
       "       [-2.53897708e+00,  8.74433573e-02,  4.74251393e-01],\n",
       "       [ 8.35320145e-01,  1.47367055e+00,  6.10093576e-01],\n",
       "       [ 7.87904615e-01,  2.02662652e+00, -2.54723404e-01],\n",
       "       [-8.06832156e-01,  2.23383039e+00,  7.72855797e-01],\n",
       "       [-5.58042625e-01,  2.37298543e+00,  2.30761140e+00],\n",
       "       [-1.11511104e+00,  1.80224719e+00,  9.59253308e-01],\n",
       "       [-5.55722830e-01,  2.65754004e+00,  8.49126898e-01],\n",
       "       [-1.34928528e+00,  2.11800147e+00, -4.76523208e-02],\n",
       "       [-1.56448261e+00,  1.85221452e+00,  7.81067031e-01],\n",
       "       [-1.93255561e+00,  1.55949546e+00, -8.92746761e-02],\n",
       "       [ 7.46665942e-01,  2.31293171e+00,  1.14679769e-01],\n",
       "       [ 9.57455364e-01,  2.22352843e+00,  1.42444774e-01],\n",
       "       [ 2.54386518e+00, -1.69274023e-01,  7.88696991e-01],\n",
       "       [-5.43952589e-01,  3.68926546e-01,  1.30889593e+00],\n",
       "       [ 1.03104975e+00,  2.56556935e+00, -1.08639017e+00],\n",
       "       [ 2.25190942e+00,  1.43274138e+00, -2.30208244e-01],\n",
       "       [ 1.41021602e+00,  2.16619177e+00,  7.48896411e-01],\n",
       "       [ 7.97719793e-01,  2.37694880e+00, -1.56811253e+00],\n",
       "       [-5.49531727e-01,  2.29312864e+00, -1.49893532e+00],\n",
       "       [-1.61173740e-01,  1.16448332e+00,  1.00371310e+00],\n",
       "       [-6.59794942e-01,  2.67996119e+00, -7.64920868e-01],\n",
       "       [ 3.92354408e-01,  2.09873171e+00, -4.71850008e-01],\n",
       "       [-1.77249908e+00,  1.71728847e+00,  9.47033174e-01],\n",
       "       [-3.66267357e-01,  2.16935330e+00, -4.81324235e-01],\n",
       "       [-1.62067257e+00,  1.35558339e+00,  2.87159001e-01],\n",
       "       [ 8.25357835e-02,  2.30623459e+00, -4.63574989e-01],\n",
       "       [ 1.57827507e+00,  1.46203429e+00,  1.77964595e+00],\n",
       "       [ 1.42056925e+00,  1.41820664e+00,  1.39275829e-01],\n",
       "       [-2.78702754e-01,  1.93056809e+00,  7.86705530e-02],\n",
       "       [-1.30314497e+00,  7.63172314e-01,  1.99959651e+00],\n",
       "       [-4.57071866e-01,  2.26941561e+00,  1.06133897e+00],\n",
       "       [-4.94185847e-01,  1.93904505e+00,  1.32393807e+00],\n",
       "       [ 4.82074410e-01,  3.87178385e+00,  1.34427122e+00],\n",
       "       [-2.52888878e-01,  2.82149237e+00, -3.02639785e-01],\n",
       "       [-1.07227638e-01,  1.92892204e+00,  6.90148243e-01],\n",
       "       [-2.43301260e+00,  1.25714104e+00, -1.90302740e+00],\n",
       "       [-5.51089539e-01,  2.22216155e+00, -3.56228830e-01],\n",
       "       [ 7.39621929e-01,  1.40895667e+00,  1.12534549e+00],\n",
       "       [ 1.33632173e+00, -2.53336931e-01,  5.34538818e+00],\n",
       "       [-1.17708700e+00,  6.63966840e-01,  3.01022189e+00],\n",
       "       [-4.62335008e-01,  6.18288179e-01,  4.83442366e-01],\n",
       "       [ 9.78474079e-01,  1.44557050e+00,  1.48123697e+00],\n",
       "       [-9.68097263e-02,  2.10999799e+00,  4.34826116e-01],\n",
       "       [ 3.84871459e-02,  1.26676211e+00,  6.87577913e-01],\n",
       "       [-1.59715850e+00,  1.20814357e+00,  3.36117556e+00],\n",
       "       [-4.79564916e-01,  1.93884066e+00,  1.29650752e+00],\n",
       "       [-1.79283347e+00,  1.15028810e+00,  7.82800173e-01],\n",
       "       [-1.32710166e+00, -1.70389232e-01, -1.18001336e+00],\n",
       "       [-2.38450083e+00, -3.74582606e-01, -7.23822595e-01],\n",
       "       [-2.93694010e+00, -2.63861830e-01, -1.67639816e-01],\n",
       "       [-2.14681113e+00, -3.68254952e-01, -4.53301301e-01],\n",
       "       [-2.36986949e+00,  4.59634809e-01, -1.10139979e+00],\n",
       "       [-3.06384157e+00, -3.53412835e-01, -1.09912410e+00],\n",
       "       [-3.91575378e+00, -1.54582519e-01,  2.21827800e-01],\n",
       "       [-3.93646339e+00, -6.59687233e-01,  1.71221542e+00],\n",
       "       [-3.09427612e+00, -3.48842759e-01, -1.02683141e+00],\n",
       "       [-2.37447163e+00, -2.91980352e-01,  1.24191433e+00],\n",
       "       [-2.77881295e+00, -2.86804873e-01,  6.09670124e-01],\n",
       "       [-2.28656128e+00, -3.72507845e-01, -9.71643032e-01],\n",
       "       [-2.98563349e+00, -4.89217908e-01,  9.46952932e-01],\n",
       "       [-2.37519470e+00, -4.82333717e-01, -2.52883994e-01],\n",
       "       [-2.20986553e+00, -1.16005250e+00, -1.24512523e+00],\n",
       "       [-2.62562100e+00, -5.63160764e-01, -8.55961082e-01],\n",
       "       [-4.28063878e+00, -6.49670964e-01, -1.45819696e+00],\n",
       "       [-3.58264137e+00, -1.27270275e+00, -1.10784038e-01],\n",
       "       [-2.80706372e+00, -1.57053379e+00, -4.72527935e-01],\n",
       "       [-2.89965933e+00, -2.04105701e+00, -4.95959810e-01],\n",
       "       [-2.32073698e+00, -2.35636608e+00,  4.37681744e-01],\n",
       "       [-2.54983095e+00, -2.04528309e+00, -3.12267999e-01],\n",
       "       [-1.81254128e+00, -1.52764595e+00,  1.36258978e+00],\n",
       "       [-2.76014464e+00, -2.13893235e+00, -9.64628688e-01],\n",
       "       [-2.73715050e+00, -4.09886271e-01, -1.19040468e+00],\n",
       "       [-3.60486887e+00, -1.80238422e+00, -9.40368613e-02],\n",
       "       [-2.88982600e+00, -1.92521861e+00, -7.82322556e-01],\n",
       "       [-3.39215608e+00, -1.31187639e+00,  1.60202597e+00],\n",
       "       [-1.04818190e+00, -3.51508969e+00,  1.16003857e+00],\n",
       "       [-1.60991228e+00, -2.40663816e+00,  5.48559697e-01],\n",
       "       [-3.14313097e+00, -7.38161044e-01, -9.09987239e-02],\n",
       "       [-2.24015690e+00, -1.17546529e+00, -1.01376932e-01],\n",
       "       [-2.84767378e+00, -5.56043966e-01,  8.04215218e-01],\n",
       "       [-2.59749706e+00, -6.97965537e-01, -8.84939521e-01],\n",
       "       [-2.94929937e+00, -1.55530896e+00, -9.83400727e-01],\n",
       "       [-3.53003227e+00, -8.82526796e-01, -4.66029128e-01],\n",
       "       [-2.40611054e+00, -2.59235618e+00,  4.28226211e-01],\n",
       "       [-2.92908473e+00, -1.27444695e+00, -1.21335827e+00],\n",
       "       [-2.18141278e+00, -2.07753731e+00,  7.63782552e-01],\n",
       "       [-2.38092779e+00, -2.58866743e+00,  1.41804403e+00],\n",
       "       [-3.21161722e+00,  2.51249104e-01, -8.47129152e-01],\n",
       "       [-3.67791872e+00, -8.47747844e-01, -1.33942023e+00],\n",
       "       [-2.46555580e+00, -2.19379830e+00, -9.18780960e-01],\n",
       "       [-3.37052415e+00, -2.21628914e+00, -3.42569512e-01],\n",
       "       [-2.60195585e+00, -1.75722935e+00,  2.07581355e-01],\n",
       "       [-2.67783946e+00, -2.76089913e+00, -9.40941877e-01],\n",
       "       [-2.38701709e+00, -2.29734668e+00, -5.50696197e-01],\n",
       "       [-3.20875816e+00, -2.76891957e+00,  1.01391366e+00]])"
      ]
     },
     "execution_count": 33,
     "metadata": {},
     "output_type": "execute_result"
    }
   ],
   "source": [
    "#for pca we need to transform data\n",
    "pca = PCA ( n_components = 3 )\n",
    "pca_values=pca.fit_transform(wine2)\n",
    "pca_values"
   ]
  },
  {
   "cell_type": "code",
   "execution_count": 34,
   "id": "c81bfc52",
   "metadata": {},
   "outputs": [
    {
     "data": {
      "text/plain": [
       "<matplotlib.collections.PathCollection at 0x171a07f6d60>"
      ]
     },
     "execution_count": 34,
     "metadata": {},
     "output_type": "execute_result"
    },
    {
     "data": {
      "image/png": "[encoded data removed]",
      "text/plain": [
       "<Figure size 432x288 with 1 Axes>"
      ]
     },
     "metadata": {
      "needs_background": "light"
     },
     "output_type": "display_data"
    }
   ],
   "source": [
    "#for scatter plot\n",
    "x =pca_values[:,0:1]\n",
    "y =pca_values[:,1:2]\n",
    "plt.scatter(x,y)"
   ]
  },
  {
   "cell_type": "code",
   "execution_count": 35,
   "id": "7be6e875",
   "metadata": {},
   "outputs": [
    {
     "data": {
      "text/html": [
       "<div>\n",
       "<style scoped>\n",
       "    .dataframe tbody tr th:only-of-type {\n",
       "        vertical-align: middle;\n",
       "    }\n",
       "\n",
       "    .dataframe tbody tr th {\n",
       "        vertical-align: top;\n",
       "    }\n",
       "\n",
       "    .dataframe thead th {\n",
       "        text-align: right;\n",
       "    }\n",
       "</style>\n",
       "<table border=\"1\" class=\"dataframe\">\n",
       "  <thead>\n",
       "    <tr style=\"text-align: right;\">\n",
       "      <th></th>\n",
       "      <th>pc1</th>\n",
       "      <th>pc2</th>\n",
       "      <th>pc3</th>\n",
       "    </tr>\n",
       "  </thead>\n",
       "  <tbody>\n",
       "    <tr>\n",
       "      <th>0</th>\n",
       "      <td>3.316751</td>\n",
       "      <td>-1.443463</td>\n",
       "      <td>-0.165739</td>\n",
       "    </tr>\n",
       "    <tr>\n",
       "      <th>1</th>\n",
       "      <td>2.209465</td>\n",
       "      <td>0.333393</td>\n",
       "      <td>-2.026457</td>\n",
       "    </tr>\n",
       "    <tr>\n",
       "      <th>2</th>\n",
       "      <td>2.516740</td>\n",
       "      <td>-1.031151</td>\n",
       "      <td>0.982819</td>\n",
       "    </tr>\n",
       "    <tr>\n",
       "      <th>3</th>\n",
       "      <td>3.757066</td>\n",
       "      <td>-2.756372</td>\n",
       "      <td>-0.176192</td>\n",
       "    </tr>\n",
       "    <tr>\n",
       "      <th>4</th>\n",
       "      <td>1.008908</td>\n",
       "      <td>-0.869831</td>\n",
       "      <td>2.026688</td>\n",
       "    </tr>\n",
       "    <tr>\n",
       "      <th>...</th>\n",
       "      <td>...</td>\n",
       "      <td>...</td>\n",
       "      <td>...</td>\n",
       "    </tr>\n",
       "    <tr>\n",
       "      <th>173</th>\n",
       "      <td>-3.370524</td>\n",
       "      <td>-2.216289</td>\n",
       "      <td>-0.342570</td>\n",
       "    </tr>\n",
       "    <tr>\n",
       "      <th>174</th>\n",
       "      <td>-2.601956</td>\n",
       "      <td>-1.757229</td>\n",
       "      <td>0.207581</td>\n",
       "    </tr>\n",
       "    <tr>\n",
       "      <th>175</th>\n",
       "      <td>-2.677839</td>\n",
       "      <td>-2.760899</td>\n",
       "      <td>-0.940942</td>\n",
       "    </tr>\n",
       "    <tr>\n",
       "      <th>176</th>\n",
       "      <td>-2.387017</td>\n",
       "      <td>-2.297347</td>\n",
       "      <td>-0.550696</td>\n",
       "    </tr>\n",
       "    <tr>\n",
       "      <th>177</th>\n",
       "      <td>-3.208758</td>\n",
       "      <td>-2.768920</td>\n",
       "      <td>1.013914</td>\n",
       "    </tr>\n",
       "  </tbody>\n",
       "</table>\n",
       "<p>178 rows × 3 columns</p>\n",
       "</div>"
      ],
      "text/plain": [
       "          pc1       pc2       pc3\n",
       "0    3.316751 -1.443463 -0.165739\n",
       "1    2.209465  0.333393 -2.026457\n",
       "2    2.516740 -1.031151  0.982819\n",
       "3    3.757066 -2.756372 -0.176192\n",
       "4    1.008908 -0.869831  2.026688\n",
       "..        ...       ...       ...\n",
       "173 -3.370524 -2.216289 -0.342570\n",
       "174 -2.601956 -1.757229  0.207581\n",
       "175 -2.677839 -2.760899 -0.940942\n",
       "176 -2.387017 -2.297347 -0.550696\n",
       "177 -3.208758 -2.768920  1.013914\n",
       "\n",
       "[178 rows x 3 columns]"
      ]
     },
     "execution_count": 35,
     "metadata": {},
     "output_type": "execute_result"
    }
   ],
   "source": [
    "# Problem statement states 3 components\n",
    "pca_table =pd.DataFrame(pca_values,columns=['pc1','pc2','pc3'])\n",
    "pca_table "
   ]
  },
  {
   "cell_type": "markdown",
   "id": "4a3460a8",
   "metadata": {},
   "source": [
    "# Hierarchial Clustering\n"
   ]
  },
  {
   "cell_type": "code",
   "execution_count": 36,
   "id": "1589145c",
   "metadata": {},
   "outputs": [],
   "source": [
    "#load libray\n",
    "from sklearn.cluster import AgglomerativeClustering, KMeans"
   ]
  },
  {
   "cell_type": "code",
   "execution_count": 37,
   "id": "9a3ba8f7",
   "metadata": {},
   "outputs": [
    {
     "data": {
      "text/plain": [
       "array([2, 2, 2, 2, 2, 2, 2, 2, 2, 2, 2, 2, 2, 2, 2, 2, 2, 2, 2, 2, 2, 2,\n",
       "       2, 2, 2, 2, 2, 2, 2, 2, 2, 2, 2, 2, 2, 2, 2, 2, 2, 2, 2, 2, 2, 2,\n",
       "       2, 2, 2, 2, 2, 2, 2, 2, 2, 2, 2, 2, 2, 2, 2, 0, 1, 1, 0, 0, 0, 2,\n",
       "       2, 0, 1, 0, 1, 2, 0, 2, 0, 0, 0, 1, 0, 0, 0, 0, 0, 1, 0, 0, 0, 0,\n",
       "       0, 0, 0, 0, 0, 0, 0, 0, 1, 0, 0, 0, 0, 0, 0, 0, 0, 0, 0, 0, 0, 0,\n",
       "       0, 0, 0, 0, 0, 0, 0, 0, 1, 0, 0, 2, 0, 0, 0, 0, 0, 0, 0, 0, 1, 1,\n",
       "       1, 1, 1, 1, 1, 1, 1, 1, 1, 1, 1, 1, 1, 1, 1, 1, 1, 1, 1, 1, 1, 1,\n",
       "       1, 1, 1, 1, 1, 1, 1, 1, 1, 1, 1, 1, 1, 1, 1, 1, 1, 1, 1, 1, 1, 1,\n",
       "       1, 1], dtype=int64)"
      ]
     },
     "execution_count": 37,
     "metadata": {},
     "output_type": "execute_result"
    }
   ],
   "source": [
    "#Creating clusters\n",
    "wine3=AgglomerativeClustering(n_clusters=3)\n",
    "wine4=wine3.fit_predict(wine2)\n",
    "wine4"
   ]
  },
  {
   "cell_type": "code",
   "execution_count": 38,
   "id": "af38ded8",
   "metadata": {},
   "outputs": [
    {
     "data": {
      "text/html": [
       "<div>\n",
       "<style scoped>\n",
       "    .dataframe tbody tr th:only-of-type {\n",
       "        vertical-align: middle;\n",
       "    }\n",
       "\n",
       "    .dataframe tbody tr th {\n",
       "        vertical-align: top;\n",
       "    }\n",
       "\n",
       "    .dataframe thead th {\n",
       "        text-align: right;\n",
       "    }\n",
       "</style>\n",
       "<table border=\"1\" class=\"dataframe\">\n",
       "  <thead>\n",
       "    <tr style=\"text-align: right;\">\n",
       "      <th></th>\n",
       "      <th>H_clusters</th>\n",
       "    </tr>\n",
       "  </thead>\n",
       "  <tbody>\n",
       "    <tr>\n",
       "      <th>0</th>\n",
       "      <td>2</td>\n",
       "    </tr>\n",
       "    <tr>\n",
       "      <th>1</th>\n",
       "      <td>2</td>\n",
       "    </tr>\n",
       "    <tr>\n",
       "      <th>2</th>\n",
       "      <td>2</td>\n",
       "    </tr>\n",
       "    <tr>\n",
       "      <th>3</th>\n",
       "      <td>2</td>\n",
       "    </tr>\n",
       "    <tr>\n",
       "      <th>4</th>\n",
       "      <td>2</td>\n",
       "    </tr>\n",
       "    <tr>\n",
       "      <th>...</th>\n",
       "      <td>...</td>\n",
       "    </tr>\n",
       "    <tr>\n",
       "      <th>173</th>\n",
       "      <td>1</td>\n",
       "    </tr>\n",
       "    <tr>\n",
       "      <th>174</th>\n",
       "      <td>1</td>\n",
       "    </tr>\n",
       "    <tr>\n",
       "      <th>175</th>\n",
       "      <td>1</td>\n",
       "    </tr>\n",
       "    <tr>\n",
       "      <th>176</th>\n",
       "      <td>1</td>\n",
       "    </tr>\n",
       "    <tr>\n",
       "      <th>177</th>\n",
       "      <td>1</td>\n",
       "    </tr>\n",
       "  </tbody>\n",
       "</table>\n",
       "<p>178 rows × 1 columns</p>\n",
       "</div>"
      ],
      "text/plain": [
       "     H_clusters\n",
       "0             2\n",
       "1             2\n",
       "2             2\n",
       "3             2\n",
       "4             2\n",
       "..          ...\n",
       "173           1\n",
       "174           1\n",
       "175           1\n",
       "176           1\n",
       "177           1\n",
       "\n",
       "[178 rows x 1 columns]"
      ]
     },
     "execution_count": 38,
     "metadata": {},
     "output_type": "execute_result"
    }
   ],
   "source": [
    "clusters=pd.DataFrame(wine4,columns=['H_clusters'])\n",
    "clusters"
   ]
  },
  {
   "cell_type": "code",
   "execution_count": 39,
   "id": "7c913934",
   "metadata": {},
   "outputs": [
    {
     "data": {
      "text/html": [
       "<div>\n",
       "<style scoped>\n",
       "    .dataframe tbody tr th:only-of-type {\n",
       "        vertical-align: middle;\n",
       "    }\n",
       "\n",
       "    .dataframe tbody tr th {\n",
       "        vertical-align: top;\n",
       "    }\n",
       "\n",
       "    .dataframe thead th {\n",
       "        text-align: right;\n",
       "    }\n",
       "</style>\n",
       "<table border=\"1\" class=\"dataframe\">\n",
       "  <thead>\n",
       "    <tr style=\"text-align: right;\">\n",
       "      <th></th>\n",
       "      <th>pc1</th>\n",
       "      <th>pc2</th>\n",
       "      <th>pc3</th>\n",
       "      <th>H_clusters</th>\n",
       "    </tr>\n",
       "  </thead>\n",
       "  <tbody>\n",
       "    <tr>\n",
       "      <th>0</th>\n",
       "      <td>3.316751</td>\n",
       "      <td>-1.443463</td>\n",
       "      <td>-0.165739</td>\n",
       "      <td>2</td>\n",
       "    </tr>\n",
       "    <tr>\n",
       "      <th>1</th>\n",
       "      <td>2.209465</td>\n",
       "      <td>0.333393</td>\n",
       "      <td>-2.026457</td>\n",
       "      <td>2</td>\n",
       "    </tr>\n",
       "    <tr>\n",
       "      <th>2</th>\n",
       "      <td>2.516740</td>\n",
       "      <td>-1.031151</td>\n",
       "      <td>0.982819</td>\n",
       "      <td>2</td>\n",
       "    </tr>\n",
       "    <tr>\n",
       "      <th>3</th>\n",
       "      <td>3.757066</td>\n",
       "      <td>-2.756372</td>\n",
       "      <td>-0.176192</td>\n",
       "      <td>2</td>\n",
       "    </tr>\n",
       "    <tr>\n",
       "      <th>4</th>\n",
       "      <td>1.008908</td>\n",
       "      <td>-0.869831</td>\n",
       "      <td>2.026688</td>\n",
       "      <td>2</td>\n",
       "    </tr>\n",
       "    <tr>\n",
       "      <th>...</th>\n",
       "      <td>...</td>\n",
       "      <td>...</td>\n",
       "      <td>...</td>\n",
       "      <td>...</td>\n",
       "    </tr>\n",
       "    <tr>\n",
       "      <th>173</th>\n",
       "      <td>-3.370524</td>\n",
       "      <td>-2.216289</td>\n",
       "      <td>-0.342570</td>\n",
       "      <td>1</td>\n",
       "    </tr>\n",
       "    <tr>\n",
       "      <th>174</th>\n",
       "      <td>-2.601956</td>\n",
       "      <td>-1.757229</td>\n",
       "      <td>0.207581</td>\n",
       "      <td>1</td>\n",
       "    </tr>\n",
       "    <tr>\n",
       "      <th>175</th>\n",
       "      <td>-2.677839</td>\n",
       "      <td>-2.760899</td>\n",
       "      <td>-0.940942</td>\n",
       "      <td>1</td>\n",
       "    </tr>\n",
       "    <tr>\n",
       "      <th>176</th>\n",
       "      <td>-2.387017</td>\n",
       "      <td>-2.297347</td>\n",
       "      <td>-0.550696</td>\n",
       "      <td>1</td>\n",
       "    </tr>\n",
       "    <tr>\n",
       "      <th>177</th>\n",
       "      <td>-3.208758</td>\n",
       "      <td>-2.768920</td>\n",
       "      <td>1.013914</td>\n",
       "      <td>1</td>\n",
       "    </tr>\n",
       "  </tbody>\n",
       "</table>\n",
       "<p>178 rows × 4 columns</p>\n",
       "</div>"
      ],
      "text/plain": [
       "          pc1       pc2       pc3  H_clusters\n",
       "0    3.316751 -1.443463 -0.165739           2\n",
       "1    2.209465  0.333393 -2.026457           2\n",
       "2    2.516740 -1.031151  0.982819           2\n",
       "3    3.757066 -2.756372 -0.176192           2\n",
       "4    1.008908 -0.869831  2.026688           2\n",
       "..        ...       ...       ...         ...\n",
       "173 -3.370524 -2.216289 -0.342570           1\n",
       "174 -2.601956 -1.757229  0.207581           1\n",
       "175 -2.677839 -2.760899 -0.940942           1\n",
       "176 -2.387017 -2.297347 -0.550696           1\n",
       "177 -3.208758 -2.768920  1.013914           1\n",
       "\n",
       "[178 rows x 4 columns]"
      ]
     },
     "execution_count": 39,
     "metadata": {},
     "output_type": "execute_result"
    }
   ],
   "source": [
    "HC=pd.concat([pca_table ,clusters],axis=1)\n",
    "HC"
   ]
  },
  {
   "cell_type": "code",
   "execution_count": 40,
   "id": "60dd27d8",
   "metadata": {},
   "outputs": [
    {
     "data": {
      "text/plain": [
       "2    64\n",
       "0    58\n",
       "1    56\n",
       "Name: H_clusters, dtype: int64"
      ]
     },
     "execution_count": 40,
     "metadata": {},
     "output_type": "execute_result"
    }
   ],
   "source": [
    "HC['H_clusters'].value_counts()"
   ]
  },
  {
   "cell_type": "code",
   "execution_count": 41,
   "id": "44984804",
   "metadata": {},
   "outputs": [
    {
     "data": {
      "text/plain": [
       "<AxesSubplot:xlabel='pc1', ylabel='pc2'>"
      ]
     },
     "execution_count": 41,
     "metadata": {},
     "output_type": "execute_result"
    },
    {
     "data": {
      "image/png": "[encoded data removed]",
      "text/plain": [
       "<Figure size 432x288 with 1 Axes>"
      ]
     },
     "metadata": {
      "needs_background": "light"
     },
     "output_type": "display_data"
    }
   ],
   "source": [
    "import seaborn as sns\n",
    "sns.scatterplot(data=HC,x='pc1',y='pc2',hue='H_clusters', palette=['orange','green','blue'])"
   ]
  },
  {
   "cell_type": "code",
   "execution_count": 42,
   "id": "84d6a9c6",
   "metadata": {},
   "outputs": [
    {
     "data": {
      "text/plain": [
       "<AxesSubplot:xlabel='pc2', ylabel='pc3'>"
      ]
     },
     "execution_count": 42,
     "metadata": {},
     "output_type": "execute_result"
    },
    {
     "data": {
      "image/png": "[encoded data removed]",
      "text/plain": [
       "<Figure size 432x288 with 1 Axes>"
      ]
     },
     "metadata": {
      "needs_background": "light"
     },
     "output_type": "display_data"
    }
   ],
   "source": [
    "import seaborn as sns\n",
    "sns.scatterplot(data=HC,x='pc2',y='pc3',hue='H_clusters', palette=['orange','green','blue'])"
   ]
  },
  {
   "cell_type": "code",
   "execution_count": 43,
   "id": "5217975e",
   "metadata": {},
   "outputs": [
    {
     "data": {
      "text/plain": [
       "<AxesSubplot:xlabel='pc1', ylabel='pc3'>"
      ]
     },
     "execution_count": 43,
     "metadata": {},
     "output_type": "execute_result"
    },
    {
     "data": {
      "image/png": "[encoded data removed]",
      "text/plain": [
       "<Figure size 432x288 with 1 Axes>"
      ]
     },
     "metadata": {
      "needs_background": "light"
     },
     "output_type": "display_data"
    }
   ],
   "source": [
    "import seaborn as sns\n",
    "sns.scatterplot(data=HC,x='pc1',y='pc3',hue='H_clusters', palette=['orange','green','blue'])"
   ]
  },
  {
   "cell_type": "markdown",
   "id": "a746329a",
   "metadata": {},
   "source": [
    "#KMeans Clustering"
   ]
  },
  {
   "cell_type": "code",
   "execution_count": 44,
   "id": "b5842e4e",
   "metadata": {},
   "outputs": [],
   "source": [
    "winemodel3=KMeans(n_clusters=5).fit(wine2)"
   ]
  },
  {
   "cell_type": "code",
   "execution_count": 45,
   "id": "2e02e543",
   "metadata": {},
   "outputs": [
    {
     "data": {
      "text/plain": [
       "array([2, 2, 2, 2, 4, 2, 2, 4, 2, 2, 2, 2, 2, 2, 2, 4, 4, 4, 2, 2, 2, 2,\n",
       "       2, 2, 2, 4, 2, 2, 4, 2, 4, 2, 2, 4, 4, 2, 4, 2, 2, 2, 2, 2, 2, 2,\n",
       "       2, 2, 2, 2, 2, 2, 2, 2, 2, 4, 2, 2, 2, 2, 2, 1, 0, 0, 1, 1, 0, 1,\n",
       "       1, 1, 0, 1, 0, 1, 0, 4, 1, 1, 1, 0, 1, 1, 1, 1, 0, 3, 1, 1, 0, 0,\n",
       "       0, 0, 0, 0, 0, 1, 1, 4, 0, 1, 1, 1, 1, 1, 1, 1, 1, 0, 1, 0, 1, 1,\n",
       "       1, 1, 0, 0, 0, 0, 1, 1, 3, 1, 1, 4, 0, 1, 1, 1, 1, 0, 0, 0, 3, 3,\n",
       "       3, 3, 3, 3, 3, 3, 3, 3, 3, 3, 3, 3, 3, 3, 3, 3, 3, 3, 3, 3, 3, 3,\n",
       "       3, 3, 3, 3, 3, 3, 3, 3, 3, 3, 3, 3, 3, 3, 3, 3, 3, 3, 3, 3, 3, 3,\n",
       "       3, 3])"
      ]
     },
     "execution_count": 45,
     "metadata": {},
     "output_type": "execute_result"
    }
   ],
   "source": [
    "#getting model labels of clustering\n",
    "winemodel3.labels_"
   ]
  },
  {
   "cell_type": "code",
   "execution_count": 46,
   "id": "61273fc8",
   "metadata": {},
   "outputs": [],
   "source": [
    "# coverting numpy array into pandas series object\n",
    "md=pd.Series(winemodel3.labels_)\n",
    "ld=pd.DataFrame(md,columns=['Kclusters'])"
   ]
  },
  {
   "cell_type": "code",
   "execution_count": 47,
   "id": "eb5088cb",
   "metadata": {},
   "outputs": [
    {
     "data": {
      "text/html": [
       "<div>\n",
       "<style scoped>\n",
       "    .dataframe tbody tr th:only-of-type {\n",
       "        vertical-align: middle;\n",
       "    }\n",
       "\n",
       "    .dataframe tbody tr th {\n",
       "        vertical-align: top;\n",
       "    }\n",
       "\n",
       "    .dataframe thead th {\n",
       "        text-align: right;\n",
       "    }\n",
       "</style>\n",
       "<table border=\"1\" class=\"dataframe\">\n",
       "  <thead>\n",
       "    <tr style=\"text-align: right;\">\n",
       "      <th></th>\n",
       "      <th>pc1</th>\n",
       "      <th>pc2</th>\n",
       "      <th>pc3</th>\n",
       "      <th>Kclusters</th>\n",
       "    </tr>\n",
       "  </thead>\n",
       "  <tbody>\n",
       "    <tr>\n",
       "      <th>0</th>\n",
       "      <td>3.316751</td>\n",
       "      <td>-1.443463</td>\n",
       "      <td>-0.165739</td>\n",
       "      <td>2</td>\n",
       "    </tr>\n",
       "    <tr>\n",
       "      <th>1</th>\n",
       "      <td>2.209465</td>\n",
       "      <td>0.333393</td>\n",
       "      <td>-2.026457</td>\n",
       "      <td>2</td>\n",
       "    </tr>\n",
       "    <tr>\n",
       "      <th>2</th>\n",
       "      <td>2.516740</td>\n",
       "      <td>-1.031151</td>\n",
       "      <td>0.982819</td>\n",
       "      <td>2</td>\n",
       "    </tr>\n",
       "    <tr>\n",
       "      <th>3</th>\n",
       "      <td>3.757066</td>\n",
       "      <td>-2.756372</td>\n",
       "      <td>-0.176192</td>\n",
       "      <td>2</td>\n",
       "    </tr>\n",
       "    <tr>\n",
       "      <th>4</th>\n",
       "      <td>1.008908</td>\n",
       "      <td>-0.869831</td>\n",
       "      <td>2.026688</td>\n",
       "      <td>4</td>\n",
       "    </tr>\n",
       "    <tr>\n",
       "      <th>...</th>\n",
       "      <td>...</td>\n",
       "      <td>...</td>\n",
       "      <td>...</td>\n",
       "      <td>...</td>\n",
       "    </tr>\n",
       "    <tr>\n",
       "      <th>173</th>\n",
       "      <td>-3.370524</td>\n",
       "      <td>-2.216289</td>\n",
       "      <td>-0.342570</td>\n",
       "      <td>3</td>\n",
       "    </tr>\n",
       "    <tr>\n",
       "      <th>174</th>\n",
       "      <td>-2.601956</td>\n",
       "      <td>-1.757229</td>\n",
       "      <td>0.207581</td>\n",
       "      <td>3</td>\n",
       "    </tr>\n",
       "    <tr>\n",
       "      <th>175</th>\n",
       "      <td>-2.677839</td>\n",
       "      <td>-2.760899</td>\n",
       "      <td>-0.940942</td>\n",
       "      <td>3</td>\n",
       "    </tr>\n",
       "    <tr>\n",
       "      <th>176</th>\n",
       "      <td>-2.387017</td>\n",
       "      <td>-2.297347</td>\n",
       "      <td>-0.550696</td>\n",
       "      <td>3</td>\n",
       "    </tr>\n",
       "    <tr>\n",
       "      <th>177</th>\n",
       "      <td>-3.208758</td>\n",
       "      <td>-2.768920</td>\n",
       "      <td>1.013914</td>\n",
       "      <td>3</td>\n",
       "    </tr>\n",
       "  </tbody>\n",
       "</table>\n",
       "<p>178 rows × 4 columns</p>\n",
       "</div>"
      ],
      "text/plain": [
       "          pc1       pc2       pc3  Kclusters\n",
       "0    3.316751 -1.443463 -0.165739          2\n",
       "1    2.209465  0.333393 -2.026457          2\n",
       "2    2.516740 -1.031151  0.982819          2\n",
       "3    3.757066 -2.756372 -0.176192          2\n",
       "4    1.008908 -0.869831  2.026688          4\n",
       "..        ...       ...       ...        ...\n",
       "173 -3.370524 -2.216289 -0.342570          3\n",
       "174 -2.601956 -1.757229  0.207581          3\n",
       "175 -2.677839 -2.760899 -0.940942          3\n",
       "176 -2.387017 -2.297347 -0.550696          3\n",
       "177 -3.208758 -2.768920  1.013914          3\n",
       "\n",
       "[178 rows x 4 columns]"
      ]
     },
     "execution_count": 47,
     "metadata": {},
     "output_type": "execute_result"
    }
   ],
   "source": [
    "DF=pd.concat([pca_table,ld],axis=1)\n",
    "DF"
   ]
  },
  {
   "cell_type": "code",
   "execution_count": 48,
   "id": "82876e27",
   "metadata": {},
   "outputs": [
    {
     "data": {
      "text/plain": [
       " 3.316751    1\n",
       "-2.146811    1\n",
       "-0.457072    1\n",
       "-0.494186    1\n",
       " 0.482074    1\n",
       "            ..\n",
       "-1.836250    1\n",
       " 0.030607    1\n",
       " 2.050262    1\n",
       "-0.609681    1\n",
       "-3.208758    1\n",
       "Name: pc1, Length: 178, dtype: int64"
      ]
     },
     "execution_count": 48,
     "metadata": {},
     "output_type": "execute_result"
    }
   ],
   "source": [
    "HC['pc1'].value_counts()"
   ]
  },
  {
   "cell_type": "code",
   "execution_count": 49,
   "id": "448c63cd",
   "metadata": {},
   "outputs": [
    {
     "data": {
      "text/plain": [
       "2    64\n",
       "0    58\n",
       "1    56\n",
       "Name: H_clusters, dtype: int64"
      ]
     },
     "execution_count": 49,
     "metadata": {},
     "output_type": "execute_result"
    }
   ],
   "source": [
    "HC['H_clusters'].value_counts()"
   ]
  },
  {
   "cell_type": "code",
   "execution_count": 50,
   "id": "ab75d549",
   "metadata": {},
   "outputs": [
    {
     "data": {
      "text/plain": [
       "3    50\n",
       "2    47\n",
       "1    40\n",
       "0    26\n",
       "4    15\n",
       "Name: Kclusters, dtype: int64"
      ]
     },
     "execution_count": 50,
     "metadata": {},
     "output_type": "execute_result"
    }
   ],
   "source": [
    " DF['Kclusters'].value_counts()"
   ]
  },
  {
   "cell_type": "code",
   "execution_count": 51,
   "id": "4afb021d",
   "metadata": {},
   "outputs": [
    {
     "name": "stderr",
     "output_type": "stream",
     "text": [
      "C:\\Users\\anku\\anaconda3\\lib\\site-packages\\sklearn\\cluster\\_kmeans.py:881: UserWarning: KMeans is known to have a memory leak on Windows with MKL, when there are less chunks than available threads. You can avoid it by setting the environment variable OMP_NUM_THREADS=1.\n",
      "  warnings.warn(\n"
     ]
    },
    {
     "data": {
      "image/png": "[encoded data removed]",
      "text/plain": [
       "<Figure size 432x288 with 1 Axes>"
      ]
     },
     "metadata": {
      "needs_background": "light"
     },
     "output_type": "display_data"
    }
   ],
   "source": [
    "wcss = []\n",
    "for i in range(1,11): # n_clusters values from 1 to 11\n",
    "    kmeans = KMeans(n_clusters=i)\n",
    "    kmeans.fit(pca_table) # passing scaled input with 5 PCA\n",
    "    wcss.append(kmeans.inertia_)\n",
    "    #print(i,wcss)\n",
    "    \n",
    "plt.plot(range(1,11),wcss)\n",
    "plt.title(\"Elbow Method\")\n",
    "plt.xlabel(\"Number of clusters\")\n",
    "plt.ylabel(\"WCSS\")\n",
    "plt.show()\n",
    "#from below graph cluster = 3"
   ]
  },
  {
   "cell_type": "code",
   "execution_count": 56,
   "id": "effb761e",
   "metadata": {},
   "outputs": [
    {
     "data": {
      "text/html": [
       "<div>\n",
       "<style scoped>\n",
       "    .dataframe tbody tr th:only-of-type {\n",
       "        vertical-align: middle;\n",
       "    }\n",
       "\n",
       "    .dataframe tbody tr th {\n",
       "        vertical-align: top;\n",
       "    }\n",
       "\n",
       "    .dataframe thead th {\n",
       "        text-align: right;\n",
       "    }\n",
       "</style>\n",
       "<table border=\"1\" class=\"dataframe\">\n",
       "  <thead>\n",
       "    <tr style=\"text-align: right;\">\n",
       "      <th></th>\n",
       "      <th>Type</th>\n",
       "    </tr>\n",
       "  </thead>\n",
       "  <tbody>\n",
       "    <tr>\n",
       "      <th>0</th>\n",
       "      <td>1</td>\n",
       "    </tr>\n",
       "    <tr>\n",
       "      <th>1</th>\n",
       "      <td>1</td>\n",
       "    </tr>\n",
       "    <tr>\n",
       "      <th>2</th>\n",
       "      <td>1</td>\n",
       "    </tr>\n",
       "    <tr>\n",
       "      <th>3</th>\n",
       "      <td>1</td>\n",
       "    </tr>\n",
       "    <tr>\n",
       "      <th>4</th>\n",
       "      <td>1</td>\n",
       "    </tr>\n",
       "    <tr>\n",
       "      <th>...</th>\n",
       "      <td>...</td>\n",
       "    </tr>\n",
       "    <tr>\n",
       "      <th>173</th>\n",
       "      <td>3</td>\n",
       "    </tr>\n",
       "    <tr>\n",
       "      <th>174</th>\n",
       "      <td>3</td>\n",
       "    </tr>\n",
       "    <tr>\n",
       "      <th>175</th>\n",
       "      <td>3</td>\n",
       "    </tr>\n",
       "    <tr>\n",
       "      <th>176</th>\n",
       "      <td>3</td>\n",
       "    </tr>\n",
       "    <tr>\n",
       "      <th>177</th>\n",
       "      <td>3</td>\n",
       "    </tr>\n",
       "  </tbody>\n",
       "</table>\n",
       "<p>178 rows × 1 columns</p>\n",
       "</div>"
      ],
      "text/plain": [
       "     Type\n",
       "0       1\n",
       "1       1\n",
       "2       1\n",
       "3       1\n",
       "4       1\n",
       "..    ...\n",
       "173     3\n",
       "174     3\n",
       "175     3\n",
       "176     3\n",
       "177     3\n",
       "\n",
       "[178 rows x 1 columns]"
      ]
     },
     "execution_count": 56,
     "metadata": {},
     "output_type": "execute_result"
    }
   ],
   "source": [
    "type1=df.iloc[:,0:1]\n",
    "type1"
   ]
  },
  {
   "cell_type": "code",
   "execution_count": 59,
   "id": "bc45ca8b",
   "metadata": {},
   "outputs": [
    {
     "data": {
      "text/html": [
       "<div>\n",
       "<style scoped>\n",
       "    .dataframe tbody tr th:only-of-type {\n",
       "        vertical-align: middle;\n",
       "    }\n",
       "\n",
       "    .dataframe tbody tr th {\n",
       "        vertical-align: top;\n",
       "    }\n",
       "\n",
       "    .dataframe thead th {\n",
       "        text-align: right;\n",
       "    }\n",
       "</style>\n",
       "<table border=\"1\" class=\"dataframe\">\n",
       "  <thead>\n",
       "    <tr style=\"text-align: right;\">\n",
       "      <th></th>\n",
       "      <th>Type</th>\n",
       "      <th>H_clusters</th>\n",
       "      <th>Kclusters</th>\n",
       "    </tr>\n",
       "  </thead>\n",
       "  <tbody>\n",
       "    <tr>\n",
       "      <th>0</th>\n",
       "      <td>1</td>\n",
       "      <td>2</td>\n",
       "      <td>2</td>\n",
       "    </tr>\n",
       "    <tr>\n",
       "      <th>1</th>\n",
       "      <td>1</td>\n",
       "      <td>2</td>\n",
       "      <td>2</td>\n",
       "    </tr>\n",
       "    <tr>\n",
       "      <th>2</th>\n",
       "      <td>1</td>\n",
       "      <td>2</td>\n",
       "      <td>2</td>\n",
       "    </tr>\n",
       "    <tr>\n",
       "      <th>3</th>\n",
       "      <td>1</td>\n",
       "      <td>2</td>\n",
       "      <td>2</td>\n",
       "    </tr>\n",
       "    <tr>\n",
       "      <th>4</th>\n",
       "      <td>1</td>\n",
       "      <td>2</td>\n",
       "      <td>4</td>\n",
       "    </tr>\n",
       "    <tr>\n",
       "      <th>...</th>\n",
       "      <td>...</td>\n",
       "      <td>...</td>\n",
       "      <td>...</td>\n",
       "    </tr>\n",
       "    <tr>\n",
       "      <th>173</th>\n",
       "      <td>3</td>\n",
       "      <td>1</td>\n",
       "      <td>3</td>\n",
       "    </tr>\n",
       "    <tr>\n",
       "      <th>174</th>\n",
       "      <td>3</td>\n",
       "      <td>1</td>\n",
       "      <td>3</td>\n",
       "    </tr>\n",
       "    <tr>\n",
       "      <th>175</th>\n",
       "      <td>3</td>\n",
       "      <td>1</td>\n",
       "      <td>3</td>\n",
       "    </tr>\n",
       "    <tr>\n",
       "      <th>176</th>\n",
       "      <td>3</td>\n",
       "      <td>1</td>\n",
       "      <td>3</td>\n",
       "    </tr>\n",
       "    <tr>\n",
       "      <th>177</th>\n",
       "      <td>3</td>\n",
       "      <td>1</td>\n",
       "      <td>3</td>\n",
       "    </tr>\n",
       "  </tbody>\n",
       "</table>\n",
       "<p>178 rows × 3 columns</p>\n",
       "</div>"
      ],
      "text/plain": [
       "     Type  H_clusters  Kclusters\n",
       "0       1           2          2\n",
       "1       1           2          2\n",
       "2       1           2          2\n",
       "3       1           2          2\n",
       "4       1           2          4\n",
       "..    ...         ...        ...\n",
       "173     3           1          3\n",
       "174     3           1          3\n",
       "175     3           1          3\n",
       "176     3           1          3\n",
       "177     3           1          3\n",
       "\n",
       "[178 rows x 3 columns]"
      ]
     },
     "execution_count": 59,
     "metadata": {},
     "output_type": "execute_result"
    }
   ],
   "source": [
    "#preparing Acta=ual vs Predicted DATA\n",
    "pd.concat([type1,clusters,ld],axis=1)"
   ]
  },
  {
   "cell_type": "code",
   "execution_count": null,
   "id": "0eedc86d",
   "metadata": {},
   "outputs": [],
   "source": []
  }
 ],
 "metadata": {
  "kernelspec": {
   "display_name": "Python 3 (ipykernel)",
   "language": "python",
   "name": "python3"
  },
  "language_info": {
   "codemirror_mode": {
    "name": "ipython",
    "version": 3
   },
   "file_extension": ".py",
   "mimetype": "text/x-python",
   "name": "python",
   "nbconvert_exporter": "python",
   "pygments_lexer": "ipython3",
   "version": "3.9.7"
  }
 },
 "nbformat": 4,
 "nbformat_minor": 5
}
